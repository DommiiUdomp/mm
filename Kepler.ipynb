{
 "cells": [
  {
   "cell_type": "code",
   "execution_count": 1,
   "id": "d6260420",
   "metadata": {},
   "outputs": [],
   "source": [
    "import geopandas as gdp"
   ]
  },
  {
   "cell_type": "code",
   "execution_count": 180,
   "id": "87e63df6",
   "metadata": {},
   "outputs": [],
   "source": [
    "import pandas as pd\n",
    "import numpy as np"
   ]
  },
  {
   "cell_type": "code",
   "execution_count": 144,
   "id": "e01fea3e",
   "metadata": {},
   "outputs": [],
   "source": [
    "import keplergl"
   ]
  },
  {
   "cell_type": "code",
   "execution_count": 192,
   "id": "8924b74b",
   "metadata": {},
   "outputs": [],
   "source": [
    "df = pd.read_csv('Worldwide-Earthquake-database.csv')"
   ]
  },
  {
   "cell_type": "code",
   "execution_count": 193,
   "id": "89ef6653",
   "metadata": {},
   "outputs": [],
   "source": [
    "# lat and lon to numeric, errors converted to nan\n",
    "df['LONGITUDE'] = pd.to_numeric(df.LONGITUDE, errors='coerce')\n",
    "df['LATITUDE'] = pd.to_numeric(df.LATITUDE, errors='coerce')\n"
   ]
  },
  {
   "cell_type": "code",
   "execution_count": 194,
   "id": "0416d6ef",
   "metadata": {},
   "outputs": [],
   "source": [
    "# drop rows with missing lat, lon, and intensity\n",
    "df.dropna(subset=['LONGITUDE', 'LATITUDE', 'INTENSITY'], inplace=True)\n",
    "# convert tsunami flag from string to int\n",
    "df['FLAG_TSUNAMI'] = [1 if i=='Yes' else 0 for i in df.FLAG_TSUNAMI.values]"
   ]
  },
  {
   "cell_type": "code",
   "execution_count": 201,
   "id": "4fb26016",
   "metadata": {},
   "outputs": [],
   "source": [
    "data = pd.concat([df['FLAG_TSUNAMI'] , df['LONGITUDE'], df['LATITUDE'], df['INTENSITY']], axis = 1)"
   ]
  },
  {
   "cell_type": "code",
   "execution_count": 198,
   "id": "ffb1521b",
   "metadata": {},
   "outputs": [
    {
     "name": "stdout",
     "output_type": "stream",
     "text": [
      "User Guide: https://docs.kepler.gl/docs/keplergl-jupyter\n"
     ]
    },
    {
     "data": {
      "application/vnd.jupyter.widget-view+json": {
       "model_id": "6fd9fed5bacd487babbff7cdd58add33",
       "version_major": 2,
       "version_minor": 0
      },
      "text/plain": [
       "KeplerGl()"
      ]
     },
     "metadata": {},
     "output_type": "display_data"
    }
   ],
   "source": [
    "kepler_map = keplergl.KeplerGl(height=400)\n",
    "kepler_map"
   ]
  },
  {
   "cell_type": "code",
   "execution_count": 202,
   "id": "b34d9185",
   "metadata": {},
   "outputs": [],
   "source": [
    "kepler_map.add_data(data=data, name=\"earthquakes\")"
   ]
  },
  {
   "cell_type": "code",
   "execution_count": 203,
   "id": "f976a318",
   "metadata": {},
   "outputs": [
    {
     "data": {
      "text/plain": [
       "FLAG_TSUNAMI    0\n",
       "LONGITUDE       0\n",
       "LATITUDE        0\n",
       "INTENSITY       0\n",
       "dtype: int64"
      ]
     },
     "execution_count": 203,
     "metadata": {},
     "output_type": "execute_result"
    }
   ],
   "source": [
    "data.isnull().sum()"
   ]
  },
  {
   "cell_type": "code",
   "execution_count": null,
   "id": "7b79f3f3",
   "metadata": {},
   "outputs": [],
   "source": []
  }
 ],
 "metadata": {
  "kernelspec": {
   "display_name": "Python 3 (ipykernel)",
   "language": "python",
   "name": "python3"
  },
  "language_info": {
   "codemirror_mode": {
    "name": "ipython",
    "version": 3
   },
   "file_extension": ".py",
   "mimetype": "text/x-python",
   "name": "python",
   "nbconvert_exporter": "python",
   "pygments_lexer": "ipython3",
   "version": "3.9.7"
  }
 },
 "nbformat": 4,
 "nbformat_minor": 5
}
