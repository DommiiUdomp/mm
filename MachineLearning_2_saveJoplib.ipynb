{
 "cells": [
  {
   "cell_type": "code",
   "execution_count": 2,
   "id": "d72b3349",
   "metadata": {},
   "outputs": [
    {
     "name": "stdout",
     "output_type": "stream",
     "text": [
      "Requirement already satisfied: joblib in c:\\users\\acer\\anaconda3\\lib\\site-packages (1.0.1)\n",
      "Note: you may need to restart the kernel to use updated packages.\n"
     ]
    }
   ],
   "source": [
    "pip install joblib"
   ]
  },
  {
   "cell_type": "code",
   "execution_count": 16,
   "id": "83d50491",
   "metadata": {},
   "outputs": [
    {
     "data": {
      "text/plain": [
       "['music-reccomender']"
      ]
     },
     "execution_count": 16,
     "metadata": {},
     "output_type": "execute_result"
    }
   ],
   "source": [
    "import pandas as pd\n",
    "from sklearn.tree import DecisionTreeClassifier\n",
    "import joblib\n",
    "\n",
    "mu=pd.read_csv('music.csv')\n",
    "x=mu.drop(columns=['genre'])\n",
    "y=mu['genre']\n",
    "\n",
    "model=DecisionTreeClassifier()\n",
    "model.fit(x,y)\n",
    "\n",
    "joblib.dump(model,'music-reccomender')\n",
    "\n",
    "#pre=model.predict([[21,1],[22,0]])"
   ]
  },
  {
   "cell_type": "code",
   "execution_count": 18,
   "id": "2a963587",
   "metadata": {},
   "outputs": [
    {
     "data": {
      "text/plain": [
       "array(['HipHop', 'Dance'], dtype=object)"
      ]
     },
     "execution_count": 18,
     "metadata": {},
     "output_type": "execute_result"
    }
   ],
   "source": [
    "import pandas as pd\n",
    "from sklearn.tree import DecisionTreeClassifier\n",
    "import joblib\n",
    "\n",
    "# mu=pd.read_csv('music.csv')\n",
    "# x=mu.drop(columns=['genre'])\n",
    "# y=mu['genre']\n",
    "\n",
    "# model=DecisionTreeClassifier()\n",
    "# model.fit(x,y)\n",
    "\n",
    "model=joblib.load('music-reccomender')\n",
    "\n",
    "pre=model.predict([[21,1],[22,0]])\n",
    "pre"
   ]
  },
  {
   "cell_type": "code",
   "execution_count": 25,
   "id": "c9bb1096",
   "metadata": {},
   "outputs": [],
   "source": [
    "import pandas as pd\n",
    "from sklearn.tree import DecisionTreeClassifier\n",
    "from sklearn import tree\n",
    "\n",
    "mu=pd.read_csv('music.csv')\n",
    "x=mu.drop(columns=['genre'])\n",
    "y=mu['genre']\n",
    "\n",
    "model = DecisionTreeClassifier()\n",
    "\n",
    "pre=model.fit(x,y)\n",
    "\n",
    "tree.export_graphviz (model,out_file='music-reccomender.dot',\n",
    "                      feature_names=['age','gender'],\n",
    "                      class_names=sorted(y.unique()),\n",
    "                     label='all',\n",
    "                     rounded=True,\n",
    "                     filled=True)\n",
    "\n",
    "#VS code"
   ]
  },
  {
   "cell_type": "code",
   "execution_count": null,
   "id": "1cf795c4",
   "metadata": {},
   "outputs": [],
   "source": []
  }
 ],
 "metadata": {
  "kernelspec": {
   "display_name": "Python 3",
   "language": "python",
   "name": "python3"
  },
  "language_info": {
   "codemirror_mode": {
    "name": "ipython",
    "version": 3
   },
   "file_extension": ".py",
   "mimetype": "text/x-python",
   "name": "python",
   "nbconvert_exporter": "python",
   "pygments_lexer": "ipython3",
   "version": "3.8.8"
  }
 },
 "nbformat": 4,
 "nbformat_minor": 5
}
